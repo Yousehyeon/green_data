{
 "cells": [
  {
   "cell_type": "markdown",
   "id": "42988a0c",
   "metadata": {},
   "source": [
    "### 로또 당첨 번호 가져오기\n",
    "### 앱 만들기"
   ]
  },
  {
   "cell_type": "code",
   "execution_count": 6,
   "id": "25cf3298",
   "metadata": {},
   "outputs": [
    {
     "ename": "NameError",
     "evalue": "name 'insert' is not defined",
     "output_type": "error",
     "traceback": [
      "\u001b[1;31m---------------------------------------------------------------------------\u001b[0m",
      "\u001b[1;31mNameError\u001b[0m                                 Traceback (most recent call last)",
      "Cell \u001b[1;32mIn[6], line 20\u001b[0m\n\u001b[0;32m     17\u001b[0m bonus_num\n\u001b[0;32m     19\u001b[0m \u001b[38;5;66;03m# 출력상자에 번호 출력\u001b[39;00m\n\u001b[1;32m---> 20\u001b[0m output,\u001b[43minsert\u001b[49m(END, win_list, bonus_num)\n\u001b[0;32m     22\u001b[0m \u001b[38;5;28mprint\u001b[39m(\u001b[38;5;124m'\u001b[39m\u001b[38;5;124m당첨번호\u001b[39m\u001b[38;5;124m'\u001b[39m)\n\u001b[0;32m     23\u001b[0m \u001b[38;5;28mprint\u001b[39m(win_list)\n",
      "\u001b[1;31mNameError\u001b[0m: name 'insert' is not defined"
     ]
    }
   ],
   "source": [
    "import requests\n",
    "from bs4 import BeautifulSoup \n",
    "\n",
    "num = 1063\n",
    "url = \"https://dhlottery.co.kr/gameResult.do?method=byWin&drwNo={}\".format(num)\n",
    "response = requests.get(url)\n",
    "#print(response)\n",
    "\n",
    "soup = BeautifulSoup(response.text, \"html.parser\")\n",
    "win_result = soup.select_one('div.win_result')\n",
    "# win_result.text\n",
    "win_list = win_result.text.split('\\n')\n",
    "win_list\n",
    "win_list = win_result.text.split('\\n')[7:13]\n",
    "win_list\n",
    "bonus_num=win_result.text.split('\\n')[-4]\n",
    "bonus_num\n",
    "\n",
    "\n",
    "print('당첨번호')\n",
    "print(win_list)\n",
    "print('보너스번호')\n",
    "print(bonus_num)"
   ]
  },
  {
   "cell_type": "markdown",
   "id": "ed037c5e",
   "metadata": {},
   "source": [
    "# 로또 당첨 번호앱 제작"
   ]
  },
  {
   "cell_type": "code",
   "execution_count": 19,
   "id": "ccd1bb62",
   "metadata": {},
   "outputs": [
    {
     "ename": "TclError",
     "evalue": "invalid command name \".!text\"",
     "output_type": "error",
     "traceback": [
      "\u001b[1;31m---------------------------------------------------------------------------\u001b[0m",
      "\u001b[1;31mTclError\u001b[0m                                  Traceback (most recent call last)",
      "Cell \u001b[1;32mIn[19], line 23\u001b[0m\n\u001b[0;32m     20\u001b[0m     bonus_num\n\u001b[0;32m     22\u001b[0m \u001b[38;5;66;03m# 출력상자에 번호 출력\u001b[39;00m\n\u001b[1;32m---> 23\u001b[0m \u001b[43moutput\u001b[49m\u001b[38;5;241;43m.\u001b[39;49m\u001b[43mdelete\u001b[49m\u001b[43m(\u001b[49m\u001b[38;5;241;43m0.0\u001b[39;49m\u001b[43m,\u001b[49m\u001b[43m \u001b[49m\u001b[43mEND\u001b[49m\u001b[43m)\u001b[49m\n\u001b[0;32m     24\u001b[0m output\u001b[38;5;241m.\u001b[39minsert(END, \u001b[38;5;124mf\u001b[39m\u001b[38;5;124m'\u001b[39m\u001b[38;5;124m당첨번호: \u001b[39m\u001b[38;5;132;01m{\u001b[39;00mwin_list\u001b[38;5;132;01m}\u001b[39;00m\u001b[38;5;130;01m\\n\u001b[39;00m\u001b[38;5;130;01m\\n\u001b[39;00m\u001b[38;5;124m보너스 : \u001b[39m\u001b[38;5;132;01m{\u001b[39;00mbonus_num\u001b[38;5;132;01m}\u001b[39;00m\u001b[38;5;124m'\u001b[39m)\n\u001b[0;32m     25\u001b[0m \u001b[38;5;124;03m\"\"\"\u001b[39;00m\n\u001b[0;32m     26\u001b[0m \u001b[38;5;124;03m    print('당첨번호')\u001b[39;00m\n\u001b[0;32m     27\u001b[0m \u001b[38;5;124;03m    print(win_list)\u001b[39;00m\n\u001b[0;32m     28\u001b[0m \u001b[38;5;124;03m    print('보너스번호')\u001b[39;00m\n\u001b[0;32m     29\u001b[0m \u001b[38;5;124;03m    print(bonus_num)\u001b[39;00m\n\u001b[0;32m     30\u001b[0m \u001b[38;5;124;03m\"\"\"\u001b[39;00m\n",
      "File \u001b[1;32mC:\\ProgramData\\anaconda3\\lib\\tkinter\\__init__.py:3641\u001b[0m, in \u001b[0;36mText.delete\u001b[1;34m(self, index1, index2)\u001b[0m\n\u001b[0;32m   3639\u001b[0m \u001b[38;5;28;01mdef\u001b[39;00m \u001b[38;5;21mdelete\u001b[39m(\u001b[38;5;28mself\u001b[39m, index1, index2\u001b[38;5;241m=\u001b[39m\u001b[38;5;28;01mNone\u001b[39;00m):\n\u001b[0;32m   3640\u001b[0m     \u001b[38;5;124;03m\"\"\"Delete the characters between INDEX1 and INDEX2 (not included).\"\"\"\u001b[39;00m\n\u001b[1;32m-> 3641\u001b[0m     \u001b[38;5;28;43mself\u001b[39;49m\u001b[38;5;241;43m.\u001b[39;49m\u001b[43mtk\u001b[49m\u001b[38;5;241;43m.\u001b[39;49m\u001b[43mcall\u001b[49m\u001b[43m(\u001b[49m\u001b[38;5;28;43mself\u001b[39;49m\u001b[38;5;241;43m.\u001b[39;49m\u001b[43m_w\u001b[49m\u001b[43m,\u001b[49m\u001b[43m \u001b[49m\u001b[38;5;124;43m'\u001b[39;49m\u001b[38;5;124;43mdelete\u001b[39;49m\u001b[38;5;124;43m'\u001b[39;49m\u001b[43m,\u001b[49m\u001b[43m \u001b[49m\u001b[43mindex1\u001b[49m\u001b[43m,\u001b[49m\u001b[43m \u001b[49m\u001b[43mindex2\u001b[49m\u001b[43m)\u001b[49m\n",
      "\u001b[1;31mTclError\u001b[0m: invalid command name \".!text\""
     ]
    }
   ],
   "source": [
    "import requests\n",
    "from bs4 import BeautifulSoup\n",
    "from tkinter import *\n",
    "\n",
    "def lotto_win():\n",
    "    # num = 1066\n",
    "    num = entry.get()\n",
    "    url = \"https://dhlottery.co.kr/gameResult.do?method=byWin&drwNo={}\".format(num)\n",
    "    response = requests.get(url)\n",
    "    #print(response)\n",
    "\n",
    "    soup = BeautifulSoup(response.text, \"html.parser\")\n",
    "    win_result = soup.select_one('div.win_result')\n",
    "    # win_result.text\n",
    "    win_list = win_result.text.split('\\n')\n",
    "    win_list\n",
    "    win_list = win_result.text.split('\\n')[7:13]\n",
    "    win_list\n",
    "    bonus_num=win_result.text.split('\\n')[-4]\n",
    "    bonus_num\n",
    "    \n",
    "# 출력상자에 번호 출력\n",
    "output.delete(0.0, END)\n",
    "output.insert(END, f'당첨번호: {win_list}\\n\\n보너스 : {bonus_num}')\n",
    "\"\"\"\n",
    "    print('당첨번호')\n",
    "    print(win_list)\n",
    "    print('보너스번호')\n",
    "    print(bonus_num)\n",
    "\"\"\"\n",
    "# lotto_win()\n",
    "\n",
    "window = Tk()\n",
    "window.title(\"로또 당첨 확인\")\n",
    "\n",
    "Label(window, text=\"당첨 회자 입력: \").grid(row=0, column=0)\n",
    "entry = Entry(window)\n",
    "entry.grid(row=1, column=0, sticky=W)\n",
    "btn = Button(window, text=\"당첨 번호 확인\", command=lotto_win)\n",
    "btn.grid(row=2,  column=0, sticky=W)\n",
    "\n",
    "output = Text(window, bg='skyblue', width=50, height=5)\n",
    "output.grid(row=3, column=0, sticky=W)\n",
    "\n",
    "window.mainloop()\n"
   ]
  },
  {
   "cell_type": "code",
   "execution_count": null,
   "id": "06d0f5f9",
   "metadata": {},
   "outputs": [],
   "source": []
  }
 ],
 "metadata": {
  "kernelspec": {
   "display_name": "Python 3 (ipykernel)",
   "language": "python",
   "name": "python3"
  },
  "language_info": {
   "codemirror_mode": {
    "name": "ipython",
    "version": 3
   },
   "file_extension": ".py",
   "mimetype": "text/x-python",
   "name": "python",
   "nbconvert_exporter": "python",
   "pygments_lexer": "ipython3",
   "version": "3.10.9"
  }
 },
 "nbformat": 4,
 "nbformat_minor": 5
}
